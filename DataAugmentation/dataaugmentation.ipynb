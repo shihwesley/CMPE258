{
 "cells": [
  {
   "cell_type": "code",
   "execution_count": 1,
   "metadata": {},
   "outputs": [
    {
     "name": "stderr",
     "output_type": "stream",
     "text": [
      "2023-04-12 03:55:43.409705: I tensorflow/tsl/cuda/cudart_stub.cc:28] Could not find cuda drivers on your machine, GPU will not be used.\n",
      "2023-04-12 03:55:43.453775: I tensorflow/tsl/cuda/cudart_stub.cc:28] Could not find cuda drivers on your machine, GPU will not be used.\n",
      "2023-04-12 03:55:43.454632: I tensorflow/core/platform/cpu_feature_guard.cc:182] This TensorFlow binary is optimized to use available CPU instructions in performance-critical operations.\n",
      "To enable the following instructions: AVX2 AVX512F FMA, in other operations, rebuild TensorFlow with the appropriate compiler flags.\n",
      "2023-04-12 03:55:44.284873: W tensorflow/compiler/tf2tensorrt/utils/py_utils.cc:38] TF-TRT Warning: Could not find TensorRT\n"
     ]
    }
   ],
   "source": [
    "import tensorflow as tf\n",
    "from tensorflow import keras\n",
    "from tensorflow.keras.datasets import mnist\n",
    "from tensorflow.keras.models import Sequential\n",
    "from tensorflow.keras.layers import Conv2D, MaxPooling2D, Flatten, Dense, Dropout\n",
    "from tensorflow.keras.optimizers import Adam\n",
    "from tensorflow.keras import regularizers\n",
    "from tensorflow.keras.preprocessing.image import ImageDataGenerator\n",
    "from sklearn.model_selection import train_test_split"
   ]
  },
  {
   "cell_type": "code",
   "execution_count": 3,
   "metadata": {},
   "outputs": [],
   "source": [
    "# Load the MNIST dataset\n",
    "(x_train, y_train), (x_test, y_test) = mnist.load_data()\n",
    "\n",
    "# Normalize the pixel values to [0, 1]\n",
    "x_train = x_train.astype('float32') / 255.0\n",
    "x_test = x_test.astype('float32') / 255.0"
   ]
  },
  {
   "cell_type": "code",
   "execution_count": 4,
   "metadata": {},
   "outputs": [],
   "source": [
    "# Split the training set into a training and validation set\n",
    "x_train, x_val, y_train, y_val = train_test_split(x_train, y_train, test_size=0.2, random_state=42)"
   ]
  },
  {
   "cell_type": "code",
   "execution_count": 9,
   "metadata": {},
   "outputs": [],
   "source": [
    "# Define the model architecture\n",
    "model = Sequential()\n",
    "model.add(Conv2D(32, kernel_size=(3, 3), activation='relu', kernel_regularizer=regularizers.l1(0.001), input_shape=(28, 28, 1)))\n",
    "model.add(MaxPooling2D(pool_size=(2, 2)))\n",
    "model.add(Conv2D(64, (3, 3), activation='relu', kernel_regularizer=regularizers.l1(0.001)))\n",
    "model.add(MaxPooling2D(pool_size=(2, 2)))\n",
    "model.add(Flatten())\n",
    "model.add(Dense(128, activation='relu', kernel_regularizer=regularizers.l1(0.001)))\n",
    "model.add(Dropout(0.5))\n",
    "model.add(Dense(10, activation='softmax'))"
   ]
  },
  {
   "cell_type": "code",
   "execution_count": 10,
   "metadata": {},
   "outputs": [
    {
     "name": "stdout",
     "output_type": "stream",
     "text": [
      "Epoch 1/10\n"
     ]
    },
    {
     "name": "stderr",
     "output_type": "stream",
     "text": [
      "2023-04-12 04:01:10.947268: W tensorflow/tsl/framework/cpu_allocator_impl.cc:83] Allocation of 150528000 exceeds 10% of free system memory.\n"
     ]
    },
    {
     "name": "stdout",
     "output_type": "stream",
     "text": [
      "375/375 [==============================] - ETA: 0s - loss: 1.7519 - accuracy: 0.8413"
     ]
    },
    {
     "name": "stderr",
     "output_type": "stream",
     "text": [
      "2023-04-12 04:01:27.436190: W tensorflow/tsl/framework/cpu_allocator_impl.cc:83] Allocation of 37632000 exceeds 10% of free system memory.\n"
     ]
    },
    {
     "name": "stdout",
     "output_type": "stream",
     "text": [
      "375/375 [==============================] - 18s 42ms/step - loss: 1.7519 - accuracy: 0.8413 - val_loss: 0.6339 - val_accuracy: 0.9480\n",
      "Epoch 2/10\n",
      "375/375 [==============================] - 15s 41ms/step - loss: 0.6085 - accuracy: 0.9249 - val_loss: 0.4527 - val_accuracy: 0.9554\n",
      "Epoch 3/10\n",
      "375/375 [==============================] - 15s 40ms/step - loss: 0.4912 - accuracy: 0.9385 - val_loss: 0.3969 - val_accuracy: 0.9657\n",
      "Epoch 4/10\n",
      "375/375 [==============================] - 15s 40ms/step - loss: 0.4625 - accuracy: 0.9424 - val_loss: 0.3855 - val_accuracy: 0.9662\n",
      "Epoch 5/10\n",
      "375/375 [==============================] - 15s 39ms/step - loss: 0.4407 - accuracy: 0.9464 - val_loss: 0.3608 - val_accuracy: 0.9689\n",
      "Epoch 6/10\n",
      "375/375 [==============================] - 15s 39ms/step - loss: 0.4204 - accuracy: 0.9496 - val_loss: 0.3608 - val_accuracy: 0.9648\n",
      "Epoch 7/10\n",
      "375/375 [==============================] - 15s 39ms/step - loss: 0.4090 - accuracy: 0.9512 - val_loss: 0.3448 - val_accuracy: 0.9680\n",
      "Epoch 8/10\n",
      "375/375 [==============================] - 15s 39ms/step - loss: 0.3988 - accuracy: 0.9528 - val_loss: 0.3405 - val_accuracy: 0.9700\n",
      "Epoch 9/10\n",
      "375/375 [==============================] - 15s 39ms/step - loss: 0.3936 - accuracy: 0.9533 - val_loss: 0.3359 - val_accuracy: 0.9718\n",
      "Epoch 10/10\n",
      "375/375 [==============================] - 15s 39ms/step - loss: 0.3855 - accuracy: 0.9539 - val_loss: 0.3388 - val_accuracy: 0.9710\n"
     ]
    },
    {
     "data": {
      "text/plain": [
       "<keras.callbacks.History at 0x7f8da833fd30>"
      ]
     },
     "execution_count": 10,
     "metadata": {},
     "output_type": "execute_result"
    }
   ],
   "source": [
    "# Step 3: Train the model on regular data\n",
    "model.compile(optimizer='adam', loss='sparse_categorical_crossentropy', metrics=['accuracy'])\n",
    "model.fit(x_train, y_train, batch_size=128, epochs=10, validation_data=(x_val, y_val))\n"
   ]
  },
  {
   "cell_type": "code",
   "execution_count": 12,
   "metadata": {},
   "outputs": [],
   "source": [
    "datagen = ImageDataGenerator(\n",
    "    rotation_range=10,\n",
    "    width_shift_range=0.1,\n",
    "    height_shift_range=0.1,\n",
    "    shear_range=0.1,\n",
    "    zoom_range=0.1,\n",
    "    fill_mode='reflect')\n",
    "\n",
    "datagen.fit(x_train.reshape(-1, 28, 28, 1))"
   ]
  },
  {
   "cell_type": "code",
   "execution_count": 11,
   "metadata": {},
   "outputs": [],
   "source": [
    "model_augmented = Sequential()\n",
    "model_augmented.add(Conv2D(32, kernel_size=(3, 3), activation='relu', kernel_regularizer=regularizers.l1(0.001), input_shape=(28, 28, 1)))\n",
    "model_augmented.add(MaxPooling2D(pool_size=(2, 2)))\n",
    "model_augmented.add(Conv2D(64, (3, 3), activation='relu', kernel_regularizer=regularizers.l1(0.001)))\n",
    "model_augmented.add(MaxPooling2D(pool_size=(2, 2)))\n",
    "model_augmented.add(Flatten())\n",
    "model_augmented.add(Dense(128, activation='relu', kernel_regularizer=regularizers.l1(0.001)))\n",
    "model_augmented.add(Dropout(0.5))\n",
    "model_augmented.add(Dense(10, activation='softmax'))"
   ]
  },
  {
   "cell_type": "code",
   "execution_count": 13,
   "metadata": {},
   "outputs": [
    {
     "name": "stdout",
     "output_type": "stream",
     "text": [
      "Epoch 1/10\n"
     ]
    },
    {
     "name": "stderr",
     "output_type": "stream",
     "text": [
      "2023-04-12 04:07:09.895655: W tensorflow/tsl/framework/cpu_allocator_impl.cc:83] Allocation of 150528000 exceeds 10% of free system memory.\n"
     ]
    },
    {
     "name": "stdout",
     "output_type": "stream",
     "text": [
      "374/375 [============================>.] - ETA: 0s - loss: 1.6391 - accuracy: 0.8403"
     ]
    },
    {
     "name": "stderr",
     "output_type": "stream",
     "text": [
      "2023-04-12 04:07:24.737070: W tensorflow/tsl/framework/cpu_allocator_impl.cc:83] Allocation of 37632000 exceeds 10% of free system memory.\n"
     ]
    },
    {
     "name": "stdout",
     "output_type": "stream",
     "text": [
      "375/375 [==============================] - 16s 40ms/step - loss: 1.6366 - accuracy: 0.8405 - val_loss: 0.5891 - val_accuracy: 0.9504\n",
      "Epoch 2/10\n",
      "375/375 [==============================] - 15s 39ms/step - loss: 0.5562 - accuracy: 0.9319 - val_loss: 0.4294 - val_accuracy: 0.9585\n",
      "Epoch 3/10\n",
      "375/375 [==============================] - 15s 40ms/step - loss: 0.4735 - accuracy: 0.9390 - val_loss: 0.3806 - val_accuracy: 0.9641\n",
      "Epoch 4/10\n",
      "375/375 [==============================] - 15s 40ms/step - loss: 0.4409 - accuracy: 0.9424 - val_loss: 0.3575 - val_accuracy: 0.9674\n",
      "Epoch 5/10\n",
      "375/375 [==============================] - 14s 37ms/step - loss: 0.4255 - accuracy: 0.9453 - val_loss: 0.3528 - val_accuracy: 0.9662\n",
      "Epoch 6/10\n",
      "375/375 [==============================] - 14s 37ms/step - loss: 0.4105 - accuracy: 0.9473 - val_loss: 0.3463 - val_accuracy: 0.9658\n",
      "Epoch 7/10\n",
      "375/375 [==============================] - 14s 37ms/step - loss: 0.4025 - accuracy: 0.9487 - val_loss: 0.3350 - val_accuracy: 0.9699\n",
      "Epoch 8/10\n",
      "375/375 [==============================] - 14s 38ms/step - loss: 0.3944 - accuracy: 0.9492 - val_loss: 0.3292 - val_accuracy: 0.9698\n",
      "Epoch 9/10\n",
      "375/375 [==============================] - 14s 37ms/step - loss: 0.3821 - accuracy: 0.9518 - val_loss: 0.3256 - val_accuracy: 0.9681\n",
      "Epoch 10/10\n",
      "375/375 [==============================] - 14s 37ms/step - loss: 0.3798 - accuracy: 0.9504 - val_loss: 0.3144 - val_accuracy: 0.9728\n"
     ]
    },
    {
     "data": {
      "text/plain": [
       "<keras.callbacks.History at 0x7f8d60c41400>"
      ]
     },
     "execution_count": 13,
     "metadata": {},
     "output_type": "execute_result"
    }
   ],
   "source": [
    "model_augmented.compile(optimizer='adam', loss='sparse_categorical_crossentropy', metrics=['accuracy'])\n",
    "model_augmented.fit(x_train, y_train, batch_size=128, epochs=10, validation_data=(x_val, y_val))"
   ]
  },
  {
   "cell_type": "code",
   "execution_count": 14,
   "metadata": {},
   "outputs": [
    {
     "name": "stdout",
     "output_type": "stream",
     "text": [
      "375/375 [==============================] - 1s 3ms/step - loss: 0.3388 - accuracy: 0.9710\n",
      "375/375 [==============================] - 1s 4ms/step - loss: 0.3144 - accuracy: 0.9728\n",
      "Regular model validation accuracy: 0.9710000157356262\n",
      "Augmented model validation accuracy: 0.9727500081062317\n"
     ]
    }
   ],
   "source": [
    "# Step 5: Compare the performance of the models on the validation set\n",
    "score_regular = model.evaluate(x_val, y_val)\n",
    "score_augmented = model_augmented.evaluate(x_val, y_val)\n",
    "\n",
    "print(\"Regular model validation accuracy:\", score_regular[1])\n",
    "print(\"Augmented model validation accuracy:\", score_augmented[1])"
   ]
  }
 ],
 "metadata": {
  "kernelspec": {
   "display_name": "Python 3",
   "language": "python",
   "name": "python3"
  },
  "language_info": {
   "codemirror_mode": {
    "name": "ipython",
    "version": 3
   },
   "file_extension": ".py",
   "mimetype": "text/x-python",
   "name": "python",
   "nbconvert_exporter": "python",
   "pygments_lexer": "ipython3",
   "version": "3.9.7"
  },
  "orig_nbformat": 4
 },
 "nbformat": 4,
 "nbformat_minor": 2
}
